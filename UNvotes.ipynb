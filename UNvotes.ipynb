{
 "cells": [
  {
   "cell_type": "markdown",
   "metadata": {},
   "source": [
    "# UN Voting Analysis\n",
    "\n",
    "Data available here: https://github.com/dmorgan26/UNGAvotes\n",
    "\n",
    "Source: Erik Voeten \"Data and Analyses of Voting in the UN General Assembly\" Routledge Handbook of International\n",
    "Organization, edited by Bob Reinalda (published 2017-06-19)"
   ]
  },
  {
   "cell_type": "code",
   "execution_count": 1,
   "metadata": {},
   "outputs": [
    {
     "name": "stderr",
     "output_type": "stream",
     "text": [
      "Parsed with column specification:\n",
      "cols(\n",
      "  assembly_session = col_integer(),\n",
      "  rc_id = col_integer(),\n",
      "  state_code = col_integer(),\n",
      "  vote = col_integer()\n",
      ")\n"
     ]
    }
   ],
   "source": [
    "library(readr)\n",
    "\n",
    "unvotes <- read_csv(\"C:\\\\Users\\\\Dan\\\\Desktop\\\\R\\\\Markdowns\\\\UN-Votes\\\\votes.csv\", col_names=TRUE)"
   ]
  },
  {
   "cell_type": "markdown",
   "metadata": {},
   "source": [
    "### Variable Names\n",
    "\n",
    "assembly_session - the annual session in which the vote was cast\n",
    "rc_id - Roll Call ID, identifier for each piece of legislation on which the assembly voted\n",
    "state_code - ID for each member state given by the Correlates of War project\n",
    "vote - 1 = Yes, 2 = Abstain, 3 = No, 8 = Not Present, 9 = Not A Member "
   ]
  },
  {
   "cell_type": "code",
   "execution_count": 3,
   "metadata": {},
   "outputs": [
    {
     "name": "stdout",
     "output_type": "stream",
     "text": [
      "Observations: 1,048,575\n",
      "Variables: 4\n",
      "$ assembly_session <int> 1, 1, 1, 1, 1, 1, 1, 1, 1, 1, 1, 1, 1, 1, 1, 1, 1,...\n",
      "$ rc_id            <int> 3, 3, 3, 3, 3, 3, 3, 3, 3, 3, 3, 3, 3, 3, 3, 3, 3,...\n",
      "$ state_code       <int> 2, 20, 31, 40, 41, 42, 51, 52, 53, 54, 55, 56, 57,...\n",
      "$ vote             <int> 1, 3, 9, 1, 1, 1, 9, 9, 9, 9, 9, 9, 9, 9, 9, 1, 9,...\n"
     ]
    }
   ],
   "source": [
    "library(dplyr, quietly=TRUE)\n",
    "glimpse(unvotes)"
   ]
  },
  {
   "cell_type": "markdown",
   "metadata": {},
   "source": [
    "### Data Cleaning\n",
    "\n",
    "Removing absences and replacing assembly_session with year. First assembly vote in the data set was in 1946."
   ]
  },
  {
   "cell_type": "code",
   "execution_count": 4,
   "metadata": {},
   "outputs": [
    {
     "name": "stdout",
     "output_type": "stream",
     "text": [
      "Observations: 722,082\n",
      "Variables: 4\n",
      "$ rc_id      <int> 3, 3, 3, 3, 3, 3, 3, 3, 3, 3, 3, 3, 3, 3, 3, 3, 3, 3, 3,...\n",
      "$ state_code <int> 2, 20, 40, 41, 42, 70, 90, 91, 92, 93, 94, 95, 100, 101,...\n",
      "$ vote       <int> 1, 3, 1, 1, 1, 1, 1, 1, 1, 1, 1, 1, 1, 1, 1, 1, 1, 1, 1,...\n",
      "$ year       <dbl> 1946, 1946, 1946, 1946, 1946, 1946, 1946, 1946, 1946, 19...\n"
     ]
    }
   ],
   "source": [
    "votes_processed <- unvotes %>%\n",
    "                      filter(vote <= 3) %>%\n",
    "                      mutate(year = assembly_session + 1945)\n",
    "\n",
    "votes_processed <- votes_processed[,-1]\n",
    "\n",
    "glimpse(votes_processed)"
   ]
  },
  {
   "cell_type": "markdown",
   "metadata": {},
   "source": [
    "### Replacing state_code with country name"
   ]
  },
  {
   "cell_type": "code",
   "execution_count": 5,
   "metadata": {},
   "outputs": [
    {
     "name": "stderr",
     "output_type": "stream",
     "text": [
      "Warning message in countrycode(state_code, \"cown\", \"country.name\"):\n",
      "\"Some values were not matched unambiguously: 260, 816\n",
      "\""
     ]
    }
   ],
   "source": [
    "library(countrycode)\n",
    "votes_processed <- votes_processed %>%\n",
    "                      mutate(country = countrycode(state_code, \"cown\", \"country.name\"))"
   ]
  },
  {
   "cell_type": "markdown",
   "metadata": {},
   "source": [
    "The data gives state_code as Correlates of War codes\n",
    "\n",
    "260 = German Federal Republic (commonly known as West Germany). \n",
    "816 = Republic of Vietnam (commonly known as South Vietnam). \n",
    "\n",
    "Other relevant codes\n",
    "\n",
    "255 = Germany\n",
    "265 = East Germany\n",
    "\n",
    "817 = Vietnam"
   ]
  },
  {
   "cell_type": "code",
   "execution_count": 6,
   "metadata": {},
   "outputs": [
    {
     "data": {
      "text/html": [
       "<ol class=list-inline>\n",
       "\t<li>1973</li>\n",
       "\t<li>1989</li>\n",
       "</ol>\n"
      ],
      "text/latex": [
       "\\begin{enumerate*}\n",
       "\\item 1973\n",
       "\\item 1989\n",
       "\\end{enumerate*}\n"
      ],
      "text/markdown": [
       "1. 1973\n",
       "2. 1989\n",
       "\n",
       "\n"
      ],
      "text/plain": [
       "[1] 1973 1989"
      ]
     },
     "metadata": {},
     "output_type": "display_data"
    }
   ],
   "source": [
    "code_260 <- votes_processed %>%\n",
    "    filter(state_code == \"260\")\n",
    "\n",
    "range(code_260$year)"
   ]
  },
  {
   "cell_type": "code",
   "execution_count": 7,
   "metadata": {},
   "outputs": [
    {
     "data": {
      "text/html": [
       "<ol class=list-inline>\n",
       "\t<li>1973</li>\n",
       "\t<li>1989</li>\n",
       "</ol>\n"
      ],
      "text/latex": [
       "\\begin{enumerate*}\n",
       "\\item 1973\n",
       "\\item 1989\n",
       "\\end{enumerate*}\n"
      ],
      "text/markdown": [
       "1. 1973\n",
       "2. 1989\n",
       "\n",
       "\n"
      ],
      "text/plain": [
       "[1] 1973 1989"
      ]
     },
     "metadata": {},
     "output_type": "display_data"
    }
   ],
   "source": [
    "code_265 <- votes_processed %>%\n",
    "    filter(state_code == \"265\")\n",
    "\n",
    "range(code_265$year)"
   ]
  },
  {
   "cell_type": "code",
   "execution_count": 8,
   "metadata": {},
   "outputs": [
    {
     "data": {
      "text/html": [
       "<ol class=list-inline>\n",
       "\t<li>1990</li>\n",
       "\t<li>2014</li>\n",
       "</ol>\n"
      ],
      "text/latex": [
       "\\begin{enumerate*}\n",
       "\\item 1990\n",
       "\\item 2014\n",
       "\\end{enumerate*}\n"
      ],
      "text/markdown": [
       "1. 1990\n",
       "2. 2014\n",
       "\n",
       "\n"
      ],
      "text/plain": [
       "[1] 1990 2014"
      ]
     },
     "metadata": {},
     "output_type": "display_data"
    }
   ],
   "source": [
    "code_255 <- votes_processed %>%\n",
    "              filter(state_code == \"255\") \n",
    "\n",
    "range(code_255$year)"
   ]
  },
  {
   "cell_type": "markdown",
   "metadata": {},
   "source": [
    "Data shows (unified) German votes from 1990-2014\n",
    "\n",
    "There isn't any overlap of the dates so I will manually assign state_code 260 to West Germany\n"
   ]
  },
  {
   "cell_type": "code",
   "execution_count": 15,
   "metadata": {},
   "outputs": [
    {
     "data": {
      "text/html": [
       "<ol class=list-inline>\n",
       "\t<li>1977</li>\n",
       "\t<li>2014</li>\n",
       "</ol>\n"
      ],
      "text/latex": [
       "\\begin{enumerate*}\n",
       "\\item 1977\n",
       "\\item 2014\n",
       "\\end{enumerate*}\n"
      ],
      "text/markdown": [
       "1. 1977\n",
       "2. 2014\n",
       "\n",
       "\n"
      ],
      "text/plain": [
       "[1] 1977 2014"
      ]
     },
     "metadata": {},
     "output_type": "display_data"
    }
   ],
   "source": [
    "votes_processed$country[votes_processed$state_code == \"260\"] <- \"West Germany\"\n",
    "\n",
    "code_816 <- votes_processed %>%\n",
    "    filter(state_code == \"816\")\n",
    "\n",
    "range(code_816$year)"
   ]
  },
  {
   "cell_type": "code",
   "execution_count": 18,
   "metadata": {},
   "outputs": [
    {
     "name": "stderr",
     "output_type": "stream",
     "text": [
      "Warning message in min(x):\n",
      "\"no non-missing arguments to min; returning Inf\"Warning message in max(x):\n",
      "\"no non-missing arguments to max; returning -Inf\""
     ]
    },
    {
     "data": {
      "text/html": [
       "<ol class=list-inline>\n",
       "\t<li>Inf</li>\n",
       "\t<li>-Inf</li>\n",
       "</ol>\n"
      ],
      "text/latex": [
       "\\begin{enumerate*}\n",
       "\\item Inf\n",
       "\\item -Inf\n",
       "\\end{enumerate*}\n"
      ],
      "text/markdown": [
       "1. Inf\n",
       "2. -Inf\n",
       "\n",
       "\n"
      ],
      "text/plain": [
       "[1]  Inf -Inf"
      ]
     },
     "metadata": {},
     "output_type": "display_data"
    },
    {
     "data": {
      "text/html": [
       "<ol class=list-inline>\n",
       "\t<li>0</li>\n",
       "\t<li>5</li>\n",
       "</ol>\n"
      ],
      "text/latex": [
       "\\begin{enumerate*}\n",
       "\\item 0\n",
       "\\item 5\n",
       "\\end{enumerate*}\n"
      ],
      "text/markdown": [
       "1. 0\n",
       "2. 5\n",
       "\n",
       "\n"
      ],
      "text/plain": [
       "[1] 0 5"
      ]
     },
     "metadata": {},
     "output_type": "display_data"
    }
   ],
   "source": [
    "code_817 <- votes_processed %>%\n",
    "              filter(state_code == \"817\")\n",
    "\n",
    "range(code_817$year)\n",
    "\n",
    "dim(code_817)"
   ]
  },
  {
   "cell_type": "markdown",
   "metadata": {},
   "source": [
    "There is no data for South Vietnam so I will manually assign state_code 816 to Vietnam"
   ]
  },
  {
   "cell_type": "code",
   "execution_count": 19,
   "metadata": {},
   "outputs": [
    {
     "data": {
      "text/html": [
       "0"
      ],
      "text/latex": [
       "0"
      ],
      "text/markdown": [
       "0"
      ],
      "text/plain": [
       "[1] 0"
      ]
     },
     "metadata": {},
     "output_type": "display_data"
    },
    {
     "name": "stdout",
     "output_type": "stream",
     "text": [
      "Observations: 722,082\n",
      "Variables: 4\n",
      "$ rc_id   <int> 3, 3, 3, 3, 3, 3, 3, 3, 3, 3, 3, 3, 3, 3, 3, 3, 3, 3, 3, 3,...\n",
      "$ vote    <int> 1, 3, 1, 1, 1, 1, 1, 1, 1, 1, 1, 1, 1, 1, 1, 1, 1, 1, 1, 1,...\n",
      "$ year    <dbl> 1946, 1946, 1946, 1946, 1946, 1946, 1946, 1946, 1946, 1946,...\n",
      "$ country <chr> \"United States\", \"Canada\", \"Cuba\", \"Haiti\", \"Dominican Repu...\n"
     ]
    }
   ],
   "source": [
    "votes_processed$country[votes_processed$state_code == \"816\"] <- \"Vietnam\"\n",
    "\n",
    "sum(is.na(votes_processed$country)) # all NAs removed\n",
    "\n",
    "votes_processed <- votes_processed[,-2]\n",
    "\n",
    "glimpse(votes_processed)"
   ]
  },
  {
   "cell_type": "markdown",
   "metadata": {},
   "source": [
    "### Exploring the \"agreeableness\" of countries at the UN\n",
    "\n",
    "\"Yes\" votes as a proportion of all votes"
   ]
  },
  {
   "cell_type": "code",
   "execution_count": 20,
   "metadata": {},
   "outputs": [
    {
     "data": {
      "text/html": [
       "<table>\n",
       "<thead><tr><th scope=col>total</th><th scope=col>percent_yes</th></tr></thead>\n",
       "<tbody>\n",
       "\t<tr><td>722082   </td><td>0.7971754</td></tr>\n",
       "</tbody>\n",
       "</table>\n"
      ],
      "text/latex": [
       "\\begin{tabular}{r|ll}\n",
       " total & percent\\_yes\\\\\n",
       "\\hline\n",
       "\t 722082    & 0.7971754\\\\\n",
       "\\end{tabular}\n"
      ],
      "text/markdown": [
       "\n",
       "total | percent_yes | \n",
       "|---|\n",
       "| 722082    | 0.7971754 | \n",
       "\n",
       "\n"
      ],
      "text/plain": [
       "  total  percent_yes\n",
       "1 722082 0.7971754  "
      ]
     },
     "metadata": {},
     "output_type": "display_data"
    }
   ],
   "source": [
    "percent_yes <- votes_processed %>%\n",
    "    summarize (total = n(), percent_yes = mean(vote == 1))\n",
    "\n",
    "percent_yes"
   ]
  },
  {
   "cell_type": "markdown",
   "metadata": {},
   "source": [
    " 79.9% of all votes on proposed resolutions were for \"Yes\"\n",
    "\n",
    "### Summarizing by Year to use later"
   ]
  },
  {
   "cell_type": "code",
   "execution_count": 21,
   "metadata": {},
   "outputs": [],
   "source": [
    "by_year <- votes_processed %>%\n",
    "  group_by(year) %>%\n",
    "    summarize(total = n(), percent_yes = mean(vote == 1))"
   ]
  },
  {
   "cell_type": "markdown",
   "metadata": {},
   "source": [
    "### Summarizing by Country"
   ]
  },
  {
   "cell_type": "code",
   "execution_count": 24,
   "metadata": {},
   "outputs": [
    {
     "data": {
      "text/html": [
       "<table>\n",
       "<thead><tr><th scope=col>country</th><th scope=col>total</th><th scope=col>percent_yes</th></tr></thead>\n",
       "<tbody>\n",
       "\t<tr><td>Zanzibar                        </td><td>   2                            </td><td>0.0000000                       </td></tr>\n",
       "\t<tr><td>United States                   </td><td>5298                            </td><td>0.2840695                       </td></tr>\n",
       "\t<tr><td>Palau                           </td><td> 829                            </td><td>0.3063932                       </td></tr>\n",
       "\t<tr><td>Israel                          </td><td>4850                            </td><td>0.3484536                       </td></tr>\n",
       "\t<tr><td>West Germany                    </td><td>2067                            </td><td>0.3962264                       </td></tr>\n",
       "\t<tr><td>Micronesia (Federated States of)</td><td>1390                            </td><td>0.4100719                       </td></tr>\n",
       "</tbody>\n",
       "</table>\n"
      ],
      "text/latex": [
       "\\begin{tabular}{r|lll}\n",
       " country & total & percent\\_yes\\\\\n",
       "\\hline\n",
       "\t Zanzibar                         &    2                             & 0.0000000                       \\\\\n",
       "\t United States                    & 5298                             & 0.2840695                       \\\\\n",
       "\t Palau                            &  829                             & 0.3063932                       \\\\\n",
       "\t Israel                           & 4850                             & 0.3484536                       \\\\\n",
       "\t West Germany                     & 2067                             & 0.3962264                       \\\\\n",
       "\t Micronesia (Federated States of) & 1390                             & 0.4100719                       \\\\\n",
       "\\end{tabular}\n"
      ],
      "text/markdown": [
       "\n",
       "country | total | percent_yes | \n",
       "|---|---|---|---|---|---|\n",
       "| Zanzibar                         |    2                             | 0.0000000                        | \n",
       "| United States                    | 5298                             | 0.2840695                        | \n",
       "| Palau                            |  829                             | 0.3063932                        | \n",
       "| Israel                           | 4850                             | 0.3484536                        | \n",
       "| West Germany                     | 2067                             | 0.3962264                        | \n",
       "| Micronesia (Federated States of) | 1390                             | 0.4100719                        | \n",
       "\n",
       "\n"
      ],
      "text/plain": [
       "  country                          total percent_yes\n",
       "1 Zanzibar                            2  0.0000000  \n",
       "2 United States                    5298  0.2840695  \n",
       "3 Palau                             829  0.3063932  \n",
       "4 Israel                           4850  0.3484536  \n",
       "5 West Germany                     2067  0.3962264  \n",
       "6 Micronesia (Federated States of) 1390  0.4100719  "
      ]
     },
     "metadata": {},
     "output_type": "display_data"
    },
    {
     "data": {
      "text/html": [
       "<ol class=list-inline>\n",
       "\t<li>200</li>\n",
       "\t<li>3</li>\n",
       "</ol>\n"
      ],
      "text/latex": [
       "\\begin{enumerate*}\n",
       "\\item 200\n",
       "\\item 3\n",
       "\\end{enumerate*}\n"
      ],
      "text/markdown": [
       "1. 200\n",
       "2. 3\n",
       "\n",
       "\n"
      ],
      "text/plain": [
       "[1] 200   3"
      ]
     },
     "metadata": {},
     "output_type": "display_data"
    }
   ],
   "source": [
    "by_country <- votes_processed %>%\n",
    "  group_by(country) %>%\n",
    "  summarize(total = n(), percent_yes = mean(vote == 1)) %>%\n",
    "  arrange(percent_yes)\n",
    "\n",
    "head(by_country)\n",
    "dim(by_country)"
   ]
  },
  {
   "cell_type": "markdown",
   "metadata": {},
   "source": [
    "Zanzibar only has 2 votes, so filtering out countries with less than 100 votes"
   ]
  },
  {
   "cell_type": "code",
   "execution_count": 25,
   "metadata": {},
   "outputs": [
    {
     "data": {
      "text/html": [
       "<ol class=list-inline>\n",
       "\t<li>199</li>\n",
       "\t<li>3</li>\n",
       "</ol>\n"
      ],
      "text/latex": [
       "\\begin{enumerate*}\n",
       "\\item 199\n",
       "\\item 3\n",
       "\\end{enumerate*}\n"
      ],
      "text/markdown": [
       "1. 199\n",
       "2. 3\n",
       "\n",
       "\n"
      ],
      "text/plain": [
       "[1] 199   3"
      ]
     },
     "metadata": {},
     "output_type": "display_data"
    }
   ],
   "source": [
    "by_country <- by_country %>%\n",
    "                        filter(total > 100)\n",
    "\n",
    "dim(by_country)\n"
   ]
  },
  {
   "cell_type": "markdown",
   "metadata": {},
   "source": [
    "Zanzibar is the only country that was removed\n",
    "\n",
    "### Analysing Agreeableness Over Time"
   ]
  },
  {
   "cell_type": "code",
   "execution_count": 26,
   "metadata": {},
   "outputs": [
    {
     "data": {},
     "metadata": {},
     "output_type": "display_data"
    },
    {
     "data": {
      "image/png": "[encoded data removed]",
      "text/plain": [
       "plot without title"
      ]
     },
     "metadata": {},
     "output_type": "display_data"
    }
   ],
   "source": [
    "library(ggplot2)\n",
    "library(ggthemes)\n",
    "\n",
    "ggplot(by_year, aes(x=year, y=percent_yes)) + geom_line() + \n",
    "  scale_y_continuous(breaks = seq(0,1,0.05), labels=scales::percent) + \n",
    "  scale_x_discrete(limits = c(1946, seq(1950, 2010, 5), 2014)) +\n",
    "  labs(title = \"% Yes votes at the UN General Assembly by Year\", y = \"% Yes\", x = \"Year\") +\n",
    "  theme_fivethirtyeight()"
   ]
  },
  {
   "cell_type": "markdown",
   "metadata": {},
   "source": [
    "### Investiating the huge dip"
   ]
  },
  {
   "cell_type": "code",
   "execution_count": 27,
   "metadata": {},
   "outputs": [
    {
     "data": {
      "text/html": [
       "19"
      ],
      "text/latex": [
       "19"
      ],
      "text/markdown": [
       "19"
      ],
      "text/plain": [
       "[1] 19"
      ]
     },
     "metadata": {},
     "output_type": "display_data"
    },
    {
     "data": {
      "text/html": [
       "<table>\n",
       "<thead><tr><th scope=col>year</th><th scope=col>total</th><th scope=col>percent_yes</th></tr></thead>\n",
       "<tbody>\n",
       "\t<tr><td>1962      </td><td>4642      </td><td>0.59995692</td></tr>\n",
       "\t<tr><td>1963      </td><td>3308      </td><td>0.72944377</td></tr>\n",
       "\t<tr><td>1964      </td><td> 112      </td><td>0.01785714</td></tr>\n",
       "\t<tr><td>1965      </td><td>4382      </td><td>0.70789594</td></tr>\n",
       "\t<tr><td>1966      </td><td>5868      </td><td>0.61111111</td></tr>\n",
       "</tbody>\n",
       "</table>\n"
      ],
      "text/latex": [
       "\\begin{tabular}{r|lll}\n",
       " year & total & percent\\_yes\\\\\n",
       "\\hline\n",
       "\t 1962       & 4642       & 0.59995692\\\\\n",
       "\t 1963       & 3308       & 0.72944377\\\\\n",
       "\t 1964       &  112       & 0.01785714\\\\\n",
       "\t 1965       & 4382       & 0.70789594\\\\\n",
       "\t 1966       & 5868       & 0.61111111\\\\\n",
       "\\end{tabular}\n"
      ],
      "text/markdown": [
       "\n",
       "year | total | percent_yes | \n",
       "|---|---|---|---|---|\n",
       "| 1962       | 4642       | 0.59995692 | \n",
       "| 1963       | 3308       | 0.72944377 | \n",
       "| 1964       |  112       | 0.01785714 | \n",
       "| 1965       | 4382       | 0.70789594 | \n",
       "| 1966       | 5868       | 0.61111111 | \n",
       "\n",
       "\n"
      ],
      "text/plain": [
       "  year total percent_yes\n",
       "1 1962 4642  0.59995692 \n",
       "2 1963 3308  0.72944377 \n",
       "3 1964  112  0.01785714 \n",
       "4 1965 4382  0.70789594 \n",
       "5 1966 5868  0.61111111 "
      ]
     },
     "metadata": {},
     "output_type": "display_data"
    }
   ],
   "source": [
    "which.min(by_year$percent_yes)\n",
    "by_year[17:21,]"
   ]
  },
  {
   "cell_type": "markdown",
   "metadata": {},
   "source": [
    "The year 1964 shows the total percentage of yes votes as 1.7%. The numbers for 1963 and 1965 are as expected at 72.9% and 70.8% respectively, so I will assume that this is an error and so will remove the year 1964 from the data set."
   ]
  },
  {
   "cell_type": "code",
   "execution_count": 28,
   "metadata": {},
   "outputs": [
    {
     "data": {},
     "metadata": {},
     "output_type": "display_data"
    },
    {
     "data": {
      "image/png": "[encoded data removed]",
      "text/plain": [
       "plot without title"
      ]
     },
     "metadata": {},
     "output_type": "display_data"
    }
   ],
   "source": [
    "by_year <- by_year[-19,]\n",
    "\n",
    "votes_processed <- votes_processed %>%\n",
    "                      filter(year != \"1964\")\n",
    "\n",
    "ggplot(by_year, aes(x=year, y=percent_yes)) + \n",
    "  geom_line() + \n",
    "  scale_y_continuous(breaks = seq(0,1,0.05), labels=scales::percent) + \n",
    "  scale_x_discrete(limits = c(1946, seq(1950, 2010, 5), 2014)) +\n",
    "  labs(title = \"% Yes votes at the UN General Assembly by Year\", y = \"% Yes\", x = \"Year\") +\n",
    "  theme_fivethirtyeight()"
   ]
  },
  {
   "cell_type": "markdown",
   "metadata": {},
   "source": [
    "### Visualising trend in agreeableness for the entire assembly"
   ]
  },
  {
   "cell_type": "code",
   "execution_count": 67,
   "metadata": {},
   "outputs": [
    {
     "data": {},
     "metadata": {},
     "output_type": "display_data"
    },
    {
     "data": {
      "image/png": "[encoded data removed]",
      "text/plain": [
       "plot without title"
      ]
     },
     "metadata": {},
     "output_type": "display_data"
    }
   ],
   "source": [
    "library(scales, quietly=TRUE)\n",
    "\n",
    "ggplot(by_year, aes(x=year, y=percent_yes)) + \n",
    "  geom_point() + \n",
    "  geom_smooth(method=\"lm\") + \n",
    "  scale_x_discrete(limits = c(1946, seq(1950, 2010, 5), 2014)) +\n",
    "  scale_y_continuous(limits = c(0.4, 1), breaks = seq(0.4, 1, 0.05), labels=scales::percent) +  \n",
    "  labs(title = \"Least Squares % Yes votes at the UN General Assembly by Year\", y = \"% Yes\", x = \"Year\") +\n",
    "  theme_fivethirtyeight() + theme(plot.title = element_text(size=14))"
   ]
  },
  {
   "cell_type": "markdown",
   "metadata": {},
   "source": [
    "### Voting Trends by Country"
   ]
  },
  {
   "cell_type": "code",
   "execution_count": 31,
   "metadata": {},
   "outputs": [],
   "source": [
    "by_year_country <- votes_processed %>%\n",
    "  group_by(year, country) %>%\n",
    "  summarize(total = n(), percent_yes = mean(vote == 1))"
   ]
  },
  {
   "cell_type": "markdown",
   "metadata": {},
   "source": [
    "### UK Agreeableness Over Time"
   ]
  },
  {
   "cell_type": "code",
   "execution_count": 32,
   "metadata": {},
   "outputs": [
    {
     "data": {},
     "metadata": {},
     "output_type": "display_data"
    },
    {
     "data": {
      "image/png": "[encoded data removed]",
      "text/plain": [
       "plot without title"
      ]
     },
     "metadata": {},
     "output_type": "display_data"
    }
   ],
   "source": [
    "by_year_country %>%\n",
    "  filter(country == \"United Kingdom\") %>%\n",
    "     ggplot(aes(x=year, y=percent_yes)) + \n",
    "      geom_line(col=\"blue\") +\n",
    "      scale_x_discrete(limits = c(1946, seq(1950, 2010, 5), 2014)) +\n",
    "      scale_y_continuous(limits = c(0.2, 0.7), breaks = seq(0.2, 0.7, 0.05), labels=scales::percent) + \n",
    "      labs(title = \"UK % Yes Vote\", y = \"% Yes\", x = \"Year\") +\n",
    "  theme_fivethirtyeight()"
   ]
  },
  {
   "cell_type": "markdown",
   "metadata": {},
   "source": [
    "### Comparing Agreeableness of Countries"
   ]
  },
  {
   "cell_type": "code",
   "execution_count": 33,
   "metadata": {},
   "outputs": [
    {
     "data": {},
     "metadata": {},
     "output_type": "display_data"
    },
    {
     "data": {
      "image/png": "[encoded data removed]",
      "text/plain": [
       "plot without title"
      ]
     },
     "metadata": {},
     "output_type": "display_data"
    }
   ],
   "source": [
    "countries_line <- c(\"United Kingdom\",\"United States\",\"India\",\"China\")\n",
    "\n",
    "by_year_country %>%\n",
    "    filter(country %in% countries_line) %>%\n",
    "    ggplot(aes(x=year, y=percent_yes, col=country)) + geom_line() +\n",
    "      scale_x_discrete(limits = c(1946, seq(1950, 2010, 5), 2014)) +\n",
    "      scale_y_continuous(limits = c(0, 1), breaks = seq(0, 1, 0.1), labels=scales::percent) + \n",
    "      scale_color_discrete(name=\"Country\") +\n",
    "      labs(title = \"Vote Yes % By Country\", y = \"% Yes\", x = \"Year\") +\n",
    "  theme_fivethirtyeight()"
   ]
  },
  {
   "cell_type": "markdown",
   "metadata": {},
   "source": [
    "### Comparing too many countries to maintain a de-cluttered line plot"
   ]
  },
  {
   "cell_type": "code",
   "execution_count": 34,
   "metadata": {},
   "outputs": [
    {
     "data": {},
     "metadata": {},
     "output_type": "display_data"
    },
    {
     "data": {
      "image/png": "[encoded data removed]",
      "text/plain": [
       "plot without title"
      ]
     },
     "metadata": {},
     "output_type": "display_data"
    }
   ],
   "source": [
    "countries_facet <- c(\"United Kingdom\",\"United States\",\"India\",\"China\", \"Japan\", \"France\", \"Italy\", \"Egypt\",\"Turkey\")\n",
    "\n",
    "by_year_country %>%\n",
    "  filter(country %in% countries_facet) %>%\n",
    "  ggplot(aes(x=year, y=percent_yes)) + geom_line() + facet_wrap(~country) +\n",
    "      scale_y_continuous(limits = c(0, 1), breaks = seq(0, 1, 0.2), labels=scales::percent) +\n",
    "      labs(title = \"Vote Yes % By Country\", y = \"% Yes\", x = \"Year\") +\n",
    "  theme_fivethirtyeight() +\n",
    "  theme(strip.background = element_rect(fill=\"lightgrey\"))"
   ]
  },
  {
   "cell_type": "markdown",
   "metadata": {},
   "source": [
    "### Modelling the trend of agreeableness for each country"
   ]
  },
  {
   "cell_type": "code",
   "execution_count": 36,
   "metadata": {},
   "outputs": [],
   "source": [
    "library(tidyr)\n",
    "library(purrr, quietly = TRUE)\n",
    "library(broom)\n",
    "\n",
    "by_year_country <- ungroup(by_year_country)\n",
    "\n",
    "country_coefficients <- by_year_country %>%\n",
    "                        nest(-country) %>%\n",
    "                    mutate(model = map(data, ~ lm(percent_yes ~ year, data = .)), \n",
    "                           tidied = map(model, tidy)) %>%\n",
    "                        unnest(tidied) %>%\n",
    "                        filter(term == \"year\")"
   ]
  },
  {
   "cell_type": "markdown",
   "metadata": {},
   "source": [
    "Obtaining adjusted p-values since we would expect some raw p-values to be < 0.05 by chance when we have 200 models"
   ]
  },
  {
   "cell_type": "code",
   "execution_count": 37,
   "metadata": {},
   "outputs": [],
   "source": [
    "signif_country_coefficients <- country_coefficients %>%\n",
    "                                  mutate(p.adjusted = p.adjust(p.value)) %>%\n",
    "                                  filter(p.adjusted < 0.05)"
   ]
  },
  {
   "cell_type": "markdown",
   "metadata": {},
   "source": [
    "### Which countries showed the largest change in agreeableness over time?"
   ]
  },
  {
   "cell_type": "code",
   "execution_count": 44,
   "metadata": {},
   "outputs": [
    {
     "data": {
      "text/html": [
       "<table>\n",
       "<thead><tr><th scope=col>country</th><th scope=col>estimate</th></tr></thead>\n",
       "<tbody>\n",
       "\t<tr><td>Tuvalu                    </td><td>0.037765902               </td></tr>\n",
       "\t<tr><td>German Democratic Republic</td><td>0.019335631               </td></tr>\n",
       "\t<tr><td>Kyrgyzstan                </td><td>0.011877771               </td></tr>\n",
       "\t<tr><td>Tajikistan                </td><td>0.011550804               </td></tr>\n",
       "\t<tr><td>Kazakhstan                </td><td>0.011543329               </td></tr>\n",
       "\t<tr><td>Yemen Arab Republic       </td><td>0.011502731               </td></tr>\n",
       "\t<tr><td>South Africa              </td><td>0.011486658               </td></tr>\n",
       "\t<tr><td>Malawi                    </td><td>0.010322697               </td></tr>\n",
       "\t<tr><td>Dominican Republic        </td><td>0.007965362               </td></tr>\n",
       "\t<tr><td>Mongolia                  </td><td>0.007753252               </td></tr>\n",
       "</tbody>\n",
       "</table>\n"
      ],
      "text/latex": [
       "\\begin{tabular}{r|ll}\n",
       " country & estimate\\\\\n",
       "\\hline\n",
       "\t Tuvalu                     & 0.037765902               \\\\\n",
       "\t German Democratic Republic & 0.019335631               \\\\\n",
       "\t Kyrgyzstan                 & 0.011877771               \\\\\n",
       "\t Tajikistan                 & 0.011550804               \\\\\n",
       "\t Kazakhstan                 & 0.011543329               \\\\\n",
       "\t Yemen Arab Republic        & 0.011502731               \\\\\n",
       "\t South Africa               & 0.011486658               \\\\\n",
       "\t Malawi                     & 0.010322697               \\\\\n",
       "\t Dominican Republic         & 0.007965362               \\\\\n",
       "\t Mongolia                   & 0.007753252               \\\\\n",
       "\\end{tabular}\n"
      ],
      "text/markdown": [
       "\n",
       "country | estimate | \n",
       "|---|---|---|---|---|---|---|---|---|---|\n",
       "| Tuvalu                     | 0.037765902                | \n",
       "| German Democratic Republic | 0.019335631                | \n",
       "| Kyrgyzstan                 | 0.011877771                | \n",
       "| Tajikistan                 | 0.011550804                | \n",
       "| Kazakhstan                 | 0.011543329                | \n",
       "| Yemen Arab Republic        | 0.011502731                | \n",
       "| South Africa               | 0.011486658                | \n",
       "| Malawi                     | 0.010322697                | \n",
       "| Dominican Republic         | 0.007965362                | \n",
       "| Mongolia                   | 0.007753252                | \n",
       "\n",
       "\n"
      ],
      "text/plain": [
       "   country                    estimate   \n",
       "1  Tuvalu                     0.037765902\n",
       "2  German Democratic Republic 0.019335631\n",
       "3  Kyrgyzstan                 0.011877771\n",
       "4  Tajikistan                 0.011550804\n",
       "5  Kazakhstan                 0.011543329\n",
       "6  Yemen Arab Republic        0.011502731\n",
       "7  South Africa               0.011486658\n",
       "8  Malawi                     0.010322697\n",
       "9  Dominican Republic         0.007965362\n",
       "10 Mongolia                   0.007753252"
      ]
     },
     "metadata": {},
     "output_type": "display_data"
    }
   ],
   "source": [
    "signif_country_coefficients %>%\n",
    "  select(country, estimate) %>%\n",
    "  arrange(desc(estimate)) %>%\n",
    "    head(n=10)"
   ]
  },
  {
   "cell_type": "markdown",
   "metadata": {},
   "source": [
    "Tuvalu is the nation whose agreeableness increased the most over their membership. The rate of increase is far larger than any other country so warrants further investigation"
   ]
  },
  {
   "cell_type": "code",
   "execution_count": 45,
   "metadata": {},
   "outputs": [
    {
     "data": {
      "text/html": [
       "13"
      ],
      "text/latex": [
       "13"
      ],
      "text/markdown": [
       "13"
      ],
      "text/plain": [
       "[1] 13"
      ]
     },
     "metadata": {},
     "output_type": "display_data"
    }
   ],
   "source": [
    "tuvalu <- by_year_country %>%\n",
    "          filter(country == \"Tuvalu\")\n",
    "\n",
    "max(tuvalu$year) - min(tuvalu$year)"
   ]
  },
  {
   "cell_type": "markdown",
   "metadata": {},
   "source": [
    "Tuvalu has only had a voting record for 13 years. How many votes is that?"
   ]
  },
  {
   "cell_type": "code",
   "execution_count": 46,
   "metadata": {},
   "outputs": [
    {
     "data": {
      "text/html": [
       "<table>\n",
       "<thead><tr><th scope=col>total_votes</th></tr></thead>\n",
       "<tbody>\n",
       "\t<tr><td>629</td></tr>\n",
       "</tbody>\n",
       "</table>\n"
      ],
      "text/latex": [
       "\\begin{tabular}{r|l}\n",
       " total\\_votes\\\\\n",
       "\\hline\n",
       "\t 629\\\\\n",
       "\\end{tabular}\n"
      ],
      "text/markdown": [
       "\n",
       "total_votes | \n",
       "|---|\n",
       "| 629 | \n",
       "\n",
       "\n"
      ],
      "text/plain": [
       "  total_votes\n",
       "1 629        "
      ]
     },
     "metadata": {},
     "output_type": "display_data"
    }
   ],
   "source": [
    "tuvalu %>%\n",
    "    ungroup() %>%\n",
    "    mutate(cumsum = cumsum(total)) %>%\n",
    "    summarize(total_votes = max(cumsum))"
   ]
  },
  {
   "cell_type": "markdown",
   "metadata": {},
   "source": [
    "Tuvalu has participated in 629 votes, how does this compare to other nations?"
   ]
  },
  {
   "cell_type": "code",
   "execution_count": 47,
   "metadata": {},
   "outputs": [
    {
     "data": {
      "text/plain": [
       "   Min. 1st Qu.  Median    Mean 3rd Qu.    Max. \n",
       "    114    2380    4089    3629    4840    5316 "
      ]
     },
     "metadata": {},
     "output_type": "display_data"
    }
   ],
   "source": [
    "summary(by_country$total)"
   ]
  },
  {
   "cell_type": "markdown",
   "metadata": {},
   "source": [
    "Tuvalu is a clear outlier here in a data set with significant left skew. \n",
    "\n",
    "If data is normally distributed I can see whether Tuvalu falls within three standard deviations of the mean\n",
    "\n",
    "### Do the total number of votes cast by each nation follow a normal disribution?"
   ]
  },
  {
   "cell_type": "code",
   "execution_count": 49,
   "metadata": {
    "scrolled": true
   },
   "outputs": [
    {
     "data": {},
     "metadata": {},
     "output_type": "display_data"
    },
    {
     "data": {
      "image/png": "[encoded data removed]",
      "text/plain": [
       "plot without title"
      ]
     },
     "metadata": {},
     "output_type": "display_data"
    }
   ],
   "source": [
    "library(ggpubr, quietly=TRUE)\n",
    "ggqqplot(by_country$total, main = \"Q-Q Plot of Total Votes Cast By Each Country\") +\n",
    "  theme_fivethirtyeight() +\n",
    "  theme(axis.title = element_text()) + ylab('Votes') + xlab('Theoretical Quantiles')"
   ]
  },
  {
   "cell_type": "markdown",
   "metadata": {},
   "source": [
    "Shapiro-Wilk test \n",
    "\n",
    "H0 : The data are normally distributed \n",
    "HA : The data are not normally distributed"
   ]
  },
  {
   "cell_type": "code",
   "execution_count": 50,
   "metadata": {},
   "outputs": [
    {
     "data": {
      "text/plain": [
       "\n",
       "\tShapiro-Wilk normality test\n",
       "\n",
       "data:  by_country$total\n",
       "W = 0.88849, p-value = 5.326e-11\n"
      ]
     },
     "metadata": {},
     "output_type": "display_data"
    }
   ],
   "source": [
    "shapiro.test(by_country$total)"
   ]
  },
  {
   "cell_type": "markdown",
   "metadata": {},
   "source": [
    "A p-value < 0.05 and near zero suggests that the we can reject the null hypothesis that the data are normally distributed. Visual inspection of the Q-Q plot also suggests that the distribution is not normal. \n",
    "\n",
    "560 votes seems like a large enough sample so I will keep Tuvalu in the data set.\n",
    "\n",
    "### Whose agreeableness declined the most over time?"
   ]
  },
  {
   "cell_type": "code",
   "execution_count": 53,
   "metadata": {},
   "outputs": [
    {
     "data": {
      "text/html": [
       "<table>\n",
       "<thead><tr><th scope=col>country</th><th scope=col>estimate</th></tr></thead>\n",
       "<tbody>\n",
       "\t<tr><td>Bosnia &amp; Herzegovina</td><td>-0.013114172            </td></tr>\n",
       "\t<tr><td>Vanuatu             </td><td>-0.011102543        </td></tr>\n",
       "\t<tr><td>South Korea         </td><td>-0.007969444        </td></tr>\n",
       "\t<tr><td>United States       </td><td>-0.006920787        </td></tr>\n",
       "\t<tr><td>Israel              </td><td>-0.006609633        </td></tr>\n",
       "\t<tr><td>Yemen               </td><td>-0.003945137        </td></tr>\n",
       "\t<tr><td>Djibouti            </td><td>-0.001550616        </td></tr>\n",
       "\t<tr><td>Ukraine             </td><td> 0.002593617        </td></tr>\n",
       "\t<tr><td>Austria             </td><td> 0.002594383        </td></tr>\n",
       "\t<tr><td>Sweden              </td><td> 0.002626412        </td></tr>\n",
       "</tbody>\n",
       "</table>\n"
      ],
      "text/latex": [
       "\\begin{tabular}{r|ll}\n",
       " country & estimate\\\\\n",
       "\\hline\n",
       "\t Bosnia \\& Herzegovina & -0.013114172          \\\\\n",
       "\t Vanuatu              & -0.011102543        \\\\\n",
       "\t South Korea          & -0.007969444        \\\\\n",
       "\t United States        & -0.006920787        \\\\\n",
       "\t Israel               & -0.006609633        \\\\\n",
       "\t Yemen                & -0.003945137        \\\\\n",
       "\t Djibouti             & -0.001550616        \\\\\n",
       "\t Ukraine              &  0.002593617        \\\\\n",
       "\t Austria              &  0.002594383        \\\\\n",
       "\t Sweden               &  0.002626412        \\\\\n",
       "\\end{tabular}\n"
      ],
      "text/markdown": [
       "\n",
       "country | estimate | \n",
       "|---|---|---|---|---|---|---|---|---|---|\n",
       "| Bosnia & Herzegovina | -0.013114172         | \n",
       "| Vanuatu              | -0.011102543         | \n",
       "| South Korea          | -0.007969444         | \n",
       "| United States        | -0.006920787         | \n",
       "| Israel               | -0.006609633         | \n",
       "| Yemen                | -0.003945137         | \n",
       "| Djibouti             | -0.001550616         | \n",
       "| Ukraine              |  0.002593617         | \n",
       "| Austria              |  0.002594383         | \n",
       "| Sweden               |  0.002626412         | \n",
       "\n",
       "\n"
      ],
      "text/plain": [
       "   country              estimate    \n",
       "1  Bosnia & Herzegovina -0.013114172\n",
       "2  Vanuatu              -0.011102543\n",
       "3  South Korea          -0.007969444\n",
       "4  United States        -0.006920787\n",
       "5  Israel               -0.006609633\n",
       "6  Yemen                -0.003945137\n",
       "7  Djibouti             -0.001550616\n",
       "8  Ukraine               0.002593617\n",
       "9  Austria               0.002594383\n",
       "10 Sweden                0.002626412"
      ]
     },
     "metadata": {},
     "output_type": "display_data"
    }
   ],
   "source": [
    "signif_country_coefficients %>%\n",
    "    select(country, estimate) %>%\n",
    "    arrange(estimate) %>%\n",
    "    head(n=10)"
   ]
  },
  {
   "cell_type": "markdown",
   "metadata": {},
   "source": [
    "Bosnia & Herzagovinas agreeableness declined the most\n",
    "\n",
    "### Investigating voting by issue"
   ]
  },
  {
   "cell_type": "code",
   "execution_count": 54,
   "metadata": {},
   "outputs": [
    {
     "name": "stderr",
     "output_type": "stream",
     "text": [
      "Parsed with column specification:\n",
      "cols(\n",
      "  assembly_session = col_integer(),\n",
      "  vote_id = col_integer(),\n",
      "  resolution = col_character(),\n",
      "  amendment = col_integer(),\n",
      "  vote_date = col_character(),\n",
      "  significant_vote = col_integer(),\n",
      "  yes_votes = col_integer(),\n",
      "  no_votes = col_integer(),\n",
      "  abstain = col_integer(),\n",
      "  colonization = col_integer(),\n",
      "  human_rights = col_integer(),\n",
      "  israel_palestine = col_integer(),\n",
      "  disarmament = col_integer(),\n",
      "  nuclear_weapons = col_integer(),\n",
      "  economic_development = col_integer()\n",
      ")\n"
     ]
    }
   ],
   "source": [
    "resolutions <- read_csv(\"C:\\\\Users\\\\Dan\\\\Desktop\\\\R\\\\Markdowns\\\\UN-Votes\\\\resolutions.csv\", col_names=TRUE)"
   ]
  },
  {
   "cell_type": "markdown",
   "metadata": {},
   "source": [
    "### Cleaning to join to votes_processed\n",
    "\n",
    "Locating NAs in the data set"
   ]
  },
  {
   "cell_type": "code",
   "execution_count": 55,
   "metadata": {},
   "outputs": [
    {
     "data": {
      "text/html": [
       "<ol class=list-inline>\n",
       "\t<li>0</li>\n",
       "\t<li>0</li>\n",
       "\t<li>151</li>\n",
       "\t<li>2585</li>\n",
       "\t<li>0</li>\n",
       "\t<li>0</li>\n",
       "\t<li>0</li>\n",
       "\t<li>0</li>\n",
       "\t<li>0</li>\n",
       "\t<li>30</li>\n",
       "\t<li>30</li>\n",
       "\t<li>30</li>\n",
       "\t<li>30</li>\n",
       "\t<li>30</li>\n",
       "\t<li>32</li>\n",
       "</ol>\n"
      ],
      "text/latex": [
       "\\begin{enumerate*}\n",
       "\\item 0\n",
       "\\item 0\n",
       "\\item 151\n",
       "\\item 2585\n",
       "\\item 0\n",
       "\\item 0\n",
       "\\item 0\n",
       "\\item 0\n",
       "\\item 0\n",
       "\\item 30\n",
       "\\item 30\n",
       "\\item 30\n",
       "\\item 30\n",
       "\\item 30\n",
       "\\item 32\n",
       "\\end{enumerate*}\n"
      ],
      "text/markdown": [
       "1. 0\n",
       "2. 0\n",
       "3. 151\n",
       "4. 2585\n",
       "5. 0\n",
       "6. 0\n",
       "7. 0\n",
       "8. 0\n",
       "9. 0\n",
       "10. 30\n",
       "11. 30\n",
       "12. 30\n",
       "13. 30\n",
       "14. 30\n",
       "15. 32\n",
       "\n",
       "\n"
      ],
      "text/plain": [
       " [1]    0    0  151 2585    0    0    0    0    0   30   30   30   30   30   32"
      ]
     },
     "metadata": {},
     "output_type": "display_data"
    }
   ],
   "source": [
    "nas <- vector(length = 15)\n",
    "\n",
    "for (i in 1:15) {\n",
    "  nas[i] <- sum(is.na(resolutions[,i]))\n",
    "}\n",
    "\n",
    "nas"
   ]
  },
  {
   "cell_type": "markdown",
   "metadata": {},
   "source": [
    "The vast majority of the NA values are mostly in the 'amendment' column which is of no interest so I will omit all NA values"
   ]
  },
  {
   "cell_type": "code",
   "execution_count": 56,
   "metadata": {},
   "outputs": [],
   "source": [
    "resolutions <- na.omit(resolutions[,-c(4,6:9)])\n",
    "\n",
    "resolutions_processed <- resolutions %>%\n",
    "    mutate(year = assembly_session + 1945) %>%\n",
    "    rename(rc_id = vote_id) %>%\n",
    "    select(-assembly_session)\n",
    "\n",
    "#Re-ordering columns to show the new 'Year' column first\n",
    "resolutions_processed <- resolutions_processed[,c(10,1:9)]\n",
    "\n",
    "votes_joined <- inner_join(votes_processed, resolutions_processed, by=c(\"rc_id\",\"year\"))\n",
    "\n",
    "votes_joined_processed <- votes_joined %>%\n",
    "                          rename(col = colonization, hr = human_rights, \n",
    "                          mid = israel_palestine, dis = disarmament, \n",
    "                          nuke = nuclear_weapons, eco = economic_development)"
   ]
  },
  {
   "cell_type": "markdown",
   "metadata": {},
   "source": [
    "### How has a given member state voted on a given topic?"
   ]
  },
  {
   "cell_type": "code",
   "execution_count": 57,
   "metadata": {},
   "outputs": [],
   "source": [
    "library(stringr)\n",
    "\n",
    "plot_agreeableness_by_issue <- function(x, y) {\n",
    "  \n",
    "by_issue_output <- votes_joined_processed %>%\n",
    "                    filter(country == x & y == 1) %>%\n",
    "                    group_by(year) %>%\n",
    "                    mutate(percent_yes = mean(vote == 1))\n",
    "  \n",
    "y <- deparse(substitute(y))\n",
    "\n",
    "topics <- c(\"Colonisation\", \"Human Rights\", \"Israel Palestine\", \"Arms Control and Disarmament\", \"Nuclear Weapons\", \"Economic Development\")\n",
    "\n",
    "names(topics) <- c(\"col\", \"hr\", \"mid\", \"dis\", \"nuke\", \"eco\")\n",
    "   \n",
    "  topiclabel <- str_sub(y, start = 24)\n",
    "  label_output <- topics[topiclabel]\n",
    "  \n",
    "\n",
    "   ggplot(data = by_issue_output, aes(x = year, y = percent_yes)) + geom_line() +\n",
    "          scale_y_continuous(labels = scales::percent) +\n",
    "          labs(title = sprintf(\"Agreeableness of %s on the topic of %s\", x, label_output)) +\n",
    "          theme_fivethirtyeight() + theme(plot.title = element_text(size=12)) +\n",
    "          scale_x_discrete(limits = c(1946, seq(1950, 2010, 5), 2014)) +\n",
    "          theme(axis.title = element_text(), axis.title.x = element_text()) + ylab('%Yes') + xlab('Year')\n",
    "  \n",
    "  \n",
    "}"
   ]
  },
  {
   "cell_type": "markdown",
   "metadata": {},
   "source": [
    "### How has the US voted over time on issues of Nuclear Weapons?"
   ]
  },
  {
   "cell_type": "code",
   "execution_count": 58,
   "metadata": {},
   "outputs": [
    {
     "data": {},
     "metadata": {},
     "output_type": "display_data"
    },
    {
     "data": {
      "image/png": "[encoded data removed]",
      "text/plain": [
       "plot without title"
      ]
     },
     "metadata": {},
     "output_type": "display_data"
    }
   ],
   "source": [
    "plot_agreeableness_by_issue(\"United States\", votes_joined_processed$nuke)"
   ]
  },
  {
   "cell_type": "markdown",
   "metadata": {},
   "source": [
    "### How has France voted over time on issues of Israel Palestine?"
   ]
  },
  {
   "cell_type": "code",
   "execution_count": 59,
   "metadata": {},
   "outputs": [
    {
     "data": {},
     "metadata": {},
     "output_type": "display_data"
    },
    {
     "data": {
      "image/png": "[encoded data removed]",
      "text/plain": [
       "plot without title"
      ]
     },
     "metadata": {},
     "output_type": "display_data"
    }
   ],
   "source": [
    "plot_agreeableness_by_issue(\"France\", votes_joined_processed$mid)"
   ]
  },
  {
   "cell_type": "markdown",
   "metadata": {},
   "source": [
    "### How did a given country vote on all issues?"
   ]
  },
  {
   "cell_type": "code",
   "execution_count": 61,
   "metadata": {},
   "outputs": [
    {
     "data": {},
     "metadata": {},
     "output_type": "display_data"
    },
    {
     "data": {},
     "metadata": {},
     "output_type": "display_data"
    },
    {
     "data": {
      "image/png": "[encoded data removed]",
      "text/plain": [
       "plot without title"
      ]
     },
     "metadata": {},
     "output_type": "display_data"
    },
    {
     "data": {
      "image/png": "[encoded data removed]",
      "text/plain": [
       "plot without title"
      ]
     },
     "metadata": {},
     "output_type": "display_data"
    }
   ],
   "source": [
    "votes_gathered <- gather(votes_joined_processed, topic, has_topic, col:eco) %>%\n",
    "                  filter(has_topic == 1)\n",
    "\n",
    "votes_tidied <- votes_gathered %>%\n",
    "  mutate(topic = recode(topic,\n",
    "                        mid = \"Palestinian Conflict\",\n",
    "                        nuke = \"Nuclear Weapons and Nuclear Material\",\n",
    "                        dis = \"Arms Control and Disarmament\",\n",
    "                        hr = \"Human Rights\",\n",
    "                        col = \"Colonialism\",\n",
    "                        eco = \"Economic Development\"))\n",
    "\n",
    "by_country_year_topic <- votes_tidied %>%\n",
    "                      group_by(country, year, topic) %>%\n",
    "                        summarize(total = n(), percent_yes = mean(vote==1)) %>%\n",
    "                        ungroup()\n",
    " \n",
    "country_vote_all_topics <- function(x) {\n",
    "  \n",
    "  by_country_year_topic %>%\n",
    "      filter(country == x) %>%\n",
    "      ggplot(aes(x = year, y = percent_yes)) + geom_line() + facet_wrap(~ topic) +\n",
    "      labs(title = sprintf(\"Agreeableness of %s On All Issues\", x), x = \"Year\", y = \"% Yes\") +\n",
    "      scale_y_continuous(label = scales::percent) +\n",
    "      theme_fivethirtyeight() +\n",
    "      theme(strip.background = element_rect(fill=\"lightgrey\")) +\n",
    "      theme(strip.text = element_text(size = 8))\n",
    "   \n",
    "  \n",
    "}\n",
    "\n",
    "country_vote_all_topics(\"Belgium\")\n",
    "country_vote_all_topics(\"Nigeria\")"
   ]
  },
  {
   "cell_type": "markdown",
   "metadata": {},
   "source": [
    "### How does the agreeableness of two countries compare over time on each topic?"
   ]
  },
  {
   "cell_type": "code",
   "execution_count": 62,
   "metadata": {},
   "outputs": [
    {
     "data": {},
     "metadata": {},
     "output_type": "display_data"
    },
    {
     "data": {
      "image/png": "[encoded data removed]",
      "text/plain": [
       "plot without title"
      ]
     },
     "metadata": {},
     "output_type": "display_data"
    }
   ],
   "source": [
    "two_country_comparison <- function(x,y) {\n",
    "  \n",
    "  by_country_year_topic %>%\n",
    "      filter(country == x | country == y) %>%\n",
    "      ggplot(aes(x = year, y = percent_yes, color=country)) + geom_line() + facet_wrap(~ topic) +\n",
    "      labs(title = paste(x,\"vs\", y, \"Agreeableness On All Issues\"), x = \"Year\", y = \"% Yes\") +\n",
    "      scale_y_continuous(label = scales::percent) + \n",
    "      scale_color_discrete(name = NULL) +\n",
    "      theme_fivethirtyeight() + \n",
    "      theme(strip.background = element_rect(fill=\"lightgrey\")) +\n",
    "      theme(strip.text = element_text(size = 8))\n",
    "  \n",
    "  \n",
    "}\n",
    "\n",
    "two_country_comparison(\"Japan\",\"Australia\")"
   ]
  },
  {
   "cell_type": "markdown",
   "metadata": {},
   "source": [
    "### Whose agreeableness has increased/decreased the most over time on each topic?"
   ]
  },
  {
   "cell_type": "code",
   "execution_count": 64,
   "metadata": {},
   "outputs": [
    {
     "name": "stderr",
     "output_type": "stream",
     "text": [
      "Warning message in summary.lm(x):\n",
      "\"essentially perfect fit: summary may be unreliable\"Warning message in summary.lm(x):\n",
      "\"essentially perfect fit: summary may be unreliable\"Warning message in summary.lm(x):\n",
      "\"essentially perfect fit: summary may be unreliable\"Warning message in summary.lm(x):\n",
      "\"essentially perfect fit: summary may be unreliable\"Warning message in summary.lm(x):\n",
      "\"essentially perfect fit: summary may be unreliable\"Warning message in summary.lm(x):\n",
      "\"essentially perfect fit: summary may be unreliable\""
     ]
    },
    {
     "data": {
      "text/html": [
       "<table>\n",
       "<thead><tr><th scope=col>country</th><th scope=col>topic</th><th scope=col>estimate</th></tr></thead>\n",
       "<tbody>\n",
       "\t<tr><td>Uzbekistan                          </td><td>Economic Development                </td><td>0.04217593                          </td></tr>\n",
       "\t<tr><td>Tuvalu                              </td><td>Human Rights                        </td><td>0.04054205                          </td></tr>\n",
       "\t<tr><td>German Democratic Republic          </td><td>Nuclear Weapons and Nuclear Material</td><td>0.03618874                          </td></tr>\n",
       "\t<tr><td>German Democratic Republic          </td><td>Arms Control and Disarmament        </td><td>0.03497694                          </td></tr>\n",
       "\t<tr><td>Turkmenistan                        </td><td>Human Rights                        </td><td>0.03414532                          </td></tr>\n",
       "\t<tr><td>Georgia                             </td><td>Colonialism                         </td><td>0.03074620                          </td></tr>\n",
       "\t<tr><td>Kyrgyzstan                          </td><td>Human Rights                        </td><td>0.02968793                          </td></tr>\n",
       "\t<tr><td>Germany                             </td><td>Colonialism                         </td><td>0.02481784                          </td></tr>\n",
       "\t<tr><td>Estonia                             </td><td>Colonialism                         </td><td>0.02388081                          </td></tr>\n",
       "\t<tr><td>Latvia                              </td><td>Colonialism                         </td><td>0.02125378                          </td></tr>\n",
       "</tbody>\n",
       "</table>\n"
      ],
      "text/latex": [
       "\\begin{tabular}{r|lll}\n",
       " country & topic & estimate\\\\\n",
       "\\hline\n",
       "\t Uzbekistan                           & Economic Development                 & 0.04217593                          \\\\\n",
       "\t Tuvalu                               & Human Rights                         & 0.04054205                          \\\\\n",
       "\t German Democratic Republic           & Nuclear Weapons and Nuclear Material & 0.03618874                          \\\\\n",
       "\t German Democratic Republic           & Arms Control and Disarmament         & 0.03497694                          \\\\\n",
       "\t Turkmenistan                         & Human Rights                         & 0.03414532                          \\\\\n",
       "\t Georgia                              & Colonialism                          & 0.03074620                          \\\\\n",
       "\t Kyrgyzstan                           & Human Rights                         & 0.02968793                          \\\\\n",
       "\t Germany                              & Colonialism                          & 0.02481784                          \\\\\n",
       "\t Estonia                              & Colonialism                          & 0.02388081                          \\\\\n",
       "\t Latvia                               & Colonialism                          & 0.02125378                          \\\\\n",
       "\\end{tabular}\n"
      ],
      "text/markdown": [
       "\n",
       "country | topic | estimate | \n",
       "|---|---|---|---|---|---|---|---|---|---|\n",
       "| Uzbekistan                           | Economic Development                 | 0.04217593                           | \n",
       "| Tuvalu                               | Human Rights                         | 0.04054205                           | \n",
       "| German Democratic Republic           | Nuclear Weapons and Nuclear Material | 0.03618874                           | \n",
       "| German Democratic Republic           | Arms Control and Disarmament         | 0.03497694                           | \n",
       "| Turkmenistan                         | Human Rights                         | 0.03414532                           | \n",
       "| Georgia                              | Colonialism                          | 0.03074620                           | \n",
       "| Kyrgyzstan                           | Human Rights                         | 0.02968793                           | \n",
       "| Germany                              | Colonialism                          | 0.02481784                           | \n",
       "| Estonia                              | Colonialism                          | 0.02388081                           | \n",
       "| Latvia                               | Colonialism                          | 0.02125378                           | \n",
       "\n",
       "\n"
      ],
      "text/plain": [
       "   country                    topic                                estimate  \n",
       "1  Uzbekistan                 Economic Development                 0.04217593\n",
       "2  Tuvalu                     Human Rights                         0.04054205\n",
       "3  German Democratic Republic Nuclear Weapons and Nuclear Material 0.03618874\n",
       "4  German Democratic Republic Arms Control and Disarmament         0.03497694\n",
       "5  Turkmenistan               Human Rights                         0.03414532\n",
       "6  Georgia                    Colonialism                          0.03074620\n",
       "7  Kyrgyzstan                 Human Rights                         0.02968793\n",
       "8  Germany                    Colonialism                          0.02481784\n",
       "9  Estonia                    Colonialism                          0.02388081\n",
       "10 Latvia                     Colonialism                          0.02125378"
      ]
     },
     "metadata": {},
     "output_type": "display_data"
    }
   ],
   "source": [
    "country_topic_coefficients <- by_country_year_topic %>%\n",
    "                              nest(-country, -topic) %>%\n",
    "                              mutate(model = map(data, ~ lm(percent_yes ~ year, data = .)),\n",
    "                                      tidied = map(model, tidy)) %>%\n",
    "                                      unnest(tidied) %>%\n",
    "                                      filter(term == \"year\") %>%\n",
    "                                      mutate(p.adjusted = p.adjust(p.value)) %>%\n",
    "                                      filter(p.adjusted < 0.05) %>%\n",
    "                                      select(country, topic, estimate)\n",
    "\n",
    "country_topic_coefficients %>% \n",
    "            arrange(desc(estimate)) %>%\n",
    "            head(n=10)"
   ]
  },
  {
   "cell_type": "markdown",
   "metadata": {},
   "source": [
    "Uzbek attitudes to Economic Development and Tuvaluan attitudes to Human Rights have seen the largest conformist shift"
   ]
  },
  {
   "cell_type": "code",
   "execution_count": 65,
   "metadata": {},
   "outputs": [
    {
     "data": {
      "text/html": [
       "<table>\n",
       "<thead><tr><th scope=col>country</th><th scope=col>topic</th><th scope=col>estimate</th></tr></thead>\n",
       "<tbody>\n",
       "\t<tr><td>Vanuatu                             </td><td>Palestinian Conflict                </td><td>-0.02863227                         </td></tr>\n",
       "\t<tr><td>Bosnia &amp; Herzegovina                                                    </td><td><span style=white-space:pre-wrap>Human Rights                        </span></td><td>-0.02176193                                                                 </td></tr>\n",
       "\t<tr><td>Marshall Islands                    </td><td>Palestinian Conflict                </td><td>-0.02013585                         </td></tr>\n",
       "\t<tr><td>Marshall Islands                    </td><td>Human Rights                        </td><td>-0.01943271                         </td></tr>\n",
       "\t<tr><td>Vanuatu                             </td><td>Colonialism                         </td><td>-0.01709499                         </td></tr>\n",
       "\t<tr><td>Vanuatu                             </td><td>Human Rights                        </td><td>-0.01574621                         </td></tr>\n",
       "\t<tr><td>South Korea                         </td><td>Human Rights                        </td><td>-0.01451094                         </td></tr>\n",
       "\t<tr><td>Malta                               </td><td>Nuclear Weapons and Nuclear Material</td><td>-0.01130244                         </td></tr>\n",
       "\t<tr><td>Cameroon                            </td><td>Human Rights                        </td><td>-0.01025933                         </td></tr>\n",
       "\t<tr><td>United States                       </td><td>Palestinian Conflict                </td><td>-0.01019875                         </td></tr>\n",
       "</tbody>\n",
       "</table>\n"
      ],
      "text/latex": [
       "\\begin{tabular}{r|lll}\n",
       " country & topic & estimate\\\\\n",
       "\\hline\n",
       "\t Vanuatu                              & Palestinian Conflict                 & -0.02863227                         \\\\\n",
       "\t Bosnia \\& Herzegovina               & Human Rights                         & -0.02176193                         \\\\\n",
       "\t Marshall Islands                     & Palestinian Conflict                 & -0.02013585                         \\\\\n",
       "\t Marshall Islands                     & Human Rights                         & -0.01943271                         \\\\\n",
       "\t Vanuatu                              & Colonialism                          & -0.01709499                         \\\\\n",
       "\t Vanuatu                              & Human Rights                         & -0.01574621                         \\\\\n",
       "\t South Korea                          & Human Rights                         & -0.01451094                         \\\\\n",
       "\t Malta                                & Nuclear Weapons and Nuclear Material & -0.01130244                         \\\\\n",
       "\t Cameroon                             & Human Rights                         & -0.01025933                         \\\\\n",
       "\t United States                        & Palestinian Conflict                 & -0.01019875                         \\\\\n",
       "\\end{tabular}\n"
      ],
      "text/markdown": [
       "\n",
       "country | topic | estimate | \n",
       "|---|---|---|---|---|---|---|---|---|---|\n",
       "| Vanuatu                              | Palestinian Conflict                 | -0.02863227                          | \n",
       "| Bosnia & Herzegovina                 | Human Rights                         | -0.02176193                          | \n",
       "| Marshall Islands                     | Palestinian Conflict                 | -0.02013585                          | \n",
       "| Marshall Islands                     | Human Rights                         | -0.01943271                          | \n",
       "| Vanuatu                              | Colonialism                          | -0.01709499                          | \n",
       "| Vanuatu                              | Human Rights                         | -0.01574621                          | \n",
       "| South Korea                          | Human Rights                         | -0.01451094                          | \n",
       "| Malta                                | Nuclear Weapons and Nuclear Material | -0.01130244                          | \n",
       "| Cameroon                             | Human Rights                         | -0.01025933                          | \n",
       "| United States                        | Palestinian Conflict                 | -0.01019875                          | \n",
       "\n",
       "\n"
      ],
      "text/plain": [
       "   country              topic                                estimate   \n",
       "1  Vanuatu              Palestinian Conflict                 -0.02863227\n",
       "2  Bosnia & Herzegovina Human Rights                         -0.02176193\n",
       "3  Marshall Islands     Palestinian Conflict                 -0.02013585\n",
       "4  Marshall Islands     Human Rights                         -0.01943271\n",
       "5  Vanuatu              Colonialism                          -0.01709499\n",
       "6  Vanuatu              Human Rights                         -0.01574621\n",
       "7  South Korea          Human Rights                         -0.01451094\n",
       "8  Malta                Nuclear Weapons and Nuclear Material -0.01130244\n",
       "9  Cameroon             Human Rights                         -0.01025933\n",
       "10 United States        Palestinian Conflict                 -0.01019875"
      ]
     },
     "metadata": {},
     "output_type": "display_data"
    }
   ],
   "source": [
    "country_topic_coefficients %>% \n",
    "            arrange(estimate) %>%\n",
    "            head(n=10)"
   ]
  },
  {
   "cell_type": "markdown",
   "metadata": {},
   "source": [
    "\n",
    "Vanuatan attitudes to the Palestinian Conflict and Bosnian attitudes to Human Rights have shown the strongest non-conformist movements in voting patterns"
   ]
  }
 ],
 "metadata": {
  "kernelspec": {
   "display_name": "R",
   "language": "R",
   "name": "ir"
  },
  "language_info": {
   "codemirror_mode": "r",
   "file_extension": ".r",
   "mimetype": "text/x-r-source",
   "name": "R",
   "pygments_lexer": "r",
   "version": "3.4.3"
  }
 },
 "nbformat": 4,
 "nbformat_minor": 2
}
